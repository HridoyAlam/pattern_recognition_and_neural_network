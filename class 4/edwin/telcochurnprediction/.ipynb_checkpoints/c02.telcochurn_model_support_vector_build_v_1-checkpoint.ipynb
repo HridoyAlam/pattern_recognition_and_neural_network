{
 "cells": [
  {
   "cell_type": "code",
   "execution_count": 28,
   "metadata": {},
   "outputs": [],
   "source": [
    "import pandas as pd\n",
    "import numpy as np\n",
    "import matplotlib.pyplot as plt\n",
    "import seaborn as sns\n",
    "from sklearn.linear_model import LogisticRegression\n",
    "from sklearn.model_selection import train_test_split\n",
    "from sklearn.model_selection import GridSearchCV\n",
    "from numpy import arange\n",
    "from sklearn import preprocessing\n",
    "from sklearn.metrics import roc_auc_score\n",
    "from sklearn.metrics import roc_curve\n",
    "from sklearn.model_selection import cross_validate\n",
    "from sklearn.metrics import classification_report, confusion_matrix\n",
    "from sklearn.metrics import make_scorer, accuracy_score, f1_score\n",
    "from sklearn.metrics import precision_recall_curve\n",
    "from sklearn.metrics import precision_score\n",
    "from sklearn.metrics import recall_score\n",
    "from fpdf import FPDF \n",
    "from sklearn.pipeline import Pipeline\n",
    "import pickle\n",
    "import datetime\n",
    "from datetime import datetime as dt\n",
    "from datetime import timedelta\n",
    "from keras.models import model_from_json\n",
    "\n",
    "from sklearn.pipeline import make_pipeline\n",
    "from sklearn.preprocessing import StandardScaler\n",
    "from sklearn.svm import SVC\n",
    "\n",
    "#from imblearn.over_sampling import SMOTE"
   ]
  },
  {
   "cell_type": "code",
   "execution_count": 29,
   "metadata": {},
   "outputs": [],
   "source": [
    "%matplotlib inline\n",
    "plt.style.use('fivethirtyeight')\n",
    "pd.options.display.max_columns = None\n",
    "pd.options.display.max_rows = None"
   ]
  },
  {
   "cell_type": "code",
   "execution_count": 30,
   "metadata": {},
   "outputs": [],
   "source": [
    "df_churn = pd.read_pickle('./data/training/churn.pickle')"
   ]
  },
  {
   "cell_type": "code",
   "execution_count": 31,
   "metadata": {},
   "outputs": [
    {
     "data": {
      "text/html": [
       "<div>\n",
       "<style scoped>\n",
       "    .dataframe tbody tr th:only-of-type {\n",
       "        vertical-align: middle;\n",
       "    }\n",
       "\n",
       "    .dataframe tbody tr th {\n",
       "        vertical-align: top;\n",
       "    }\n",
       "\n",
       "    .dataframe thead th {\n",
       "        text-align: right;\n",
       "    }\n",
       "</style>\n",
       "<table border=\"1\" class=\"dataframe\">\n",
       "  <thead>\n",
       "    <tr style=\"text-align: right;\">\n",
       "      <th></th>\n",
       "      <th>TENURE</th>\n",
       "      <th>MONTHLY_CHARGES</th>\n",
       "      <th>CHURN_STATUS</th>\n",
       "      <th>GENDER_F</th>\n",
       "      <th>GENDER_M</th>\n",
       "    </tr>\n",
       "  </thead>\n",
       "  <tbody>\n",
       "    <tr>\n",
       "      <th>0</th>\n",
       "      <td>1</td>\n",
       "      <td>29.85</td>\n",
       "      <td>0</td>\n",
       "      <td>1</td>\n",
       "      <td>0</td>\n",
       "    </tr>\n",
       "    <tr>\n",
       "      <th>1</th>\n",
       "      <td>34</td>\n",
       "      <td>56.95</td>\n",
       "      <td>0</td>\n",
       "      <td>0</td>\n",
       "      <td>1</td>\n",
       "    </tr>\n",
       "    <tr>\n",
       "      <th>2</th>\n",
       "      <td>2</td>\n",
       "      <td>53.85</td>\n",
       "      <td>1</td>\n",
       "      <td>0</td>\n",
       "      <td>1</td>\n",
       "    </tr>\n",
       "    <tr>\n",
       "      <th>3</th>\n",
       "      <td>45</td>\n",
       "      <td>42.30</td>\n",
       "      <td>0</td>\n",
       "      <td>0</td>\n",
       "      <td>1</td>\n",
       "    </tr>\n",
       "    <tr>\n",
       "      <th>4</th>\n",
       "      <td>2</td>\n",
       "      <td>70.70</td>\n",
       "      <td>1</td>\n",
       "      <td>1</td>\n",
       "      <td>0</td>\n",
       "    </tr>\n",
       "  </tbody>\n",
       "</table>\n",
       "</div>"
      ],
      "text/plain": [
       "   TENURE  MONTHLY_CHARGES  CHURN_STATUS  GENDER_F  GENDER_M\n",
       "0       1            29.85             0         1         0\n",
       "1      34            56.95             0         0         1\n",
       "2       2            53.85             1         0         1\n",
       "3      45            42.30             0         0         1\n",
       "4       2            70.70             1         1         0"
      ]
     },
     "execution_count": 31,
     "metadata": {},
     "output_type": "execute_result"
    }
   ],
   "source": [
    "df_churn.head()"
   ]
  },
  {
   "cell_type": "code",
   "execution_count": 32,
   "metadata": {},
   "outputs": [],
   "source": [
    "df = df_churn.copy()"
   ]
  },
  {
   "cell_type": "code",
   "execution_count": 33,
   "metadata": {},
   "outputs": [
    {
     "data": {
      "text/plain": [
       "(7043, 5)"
      ]
     },
     "execution_count": 33,
     "metadata": {},
     "output_type": "execute_result"
    }
   ],
   "source": [
    "df.shape"
   ]
  },
  {
   "cell_type": "code",
   "execution_count": 34,
   "metadata": {},
   "outputs": [
    {
     "name": "stdout",
     "output_type": "stream",
     "text": [
      "<class 'pandas.core.frame.DataFrame'>\n",
      "Int64Index: 7043 entries, 0 to 7042\n",
      "Data columns (total 5 columns):\n",
      "TENURE             7043 non-null int64\n",
      "MONTHLY_CHARGES    7043 non-null float64\n",
      "CHURN_STATUS       7043 non-null int64\n",
      "GENDER_F           7043 non-null uint8\n",
      "GENDER_M           7043 non-null uint8\n",
      "dtypes: float64(1), int64(2), uint8(2)\n",
      "memory usage: 233.8 KB\n"
     ]
    }
   ],
   "source": [
    "df.info()"
   ]
  },
  {
   "cell_type": "code",
   "execution_count": 35,
   "metadata": {},
   "outputs": [
    {
     "data": {
      "text/plain": [
       "Index(['TENURE', 'MONTHLY_CHARGES', 'CHURN_STATUS', 'GENDER_F', 'GENDER_M'], dtype='object')"
      ]
     },
     "execution_count": 35,
     "metadata": {},
     "output_type": "execute_result"
    }
   ],
   "source": [
    "df.columns"
   ]
  },
  {
   "cell_type": "code",
   "execution_count": 36,
   "metadata": {},
   "outputs": [
    {
     "data": {
      "text/html": [
       "<div>\n",
       "<style scoped>\n",
       "    .dataframe tbody tr th:only-of-type {\n",
       "        vertical-align: middle;\n",
       "    }\n",
       "\n",
       "    .dataframe tbody tr th {\n",
       "        vertical-align: top;\n",
       "    }\n",
       "\n",
       "    .dataframe thead th {\n",
       "        text-align: right;\n",
       "    }\n",
       "</style>\n",
       "<table border=\"1\" class=\"dataframe\">\n",
       "  <thead>\n",
       "    <tr style=\"text-align: right;\">\n",
       "      <th></th>\n",
       "      <th>TENURE</th>\n",
       "      <th>MONTHLY_CHARGES</th>\n",
       "      <th>CHURN_STATUS</th>\n",
       "      <th>GENDER_F</th>\n",
       "      <th>GENDER_M</th>\n",
       "    </tr>\n",
       "  </thead>\n",
       "  <tbody>\n",
       "    <tr>\n",
       "      <th>count</th>\n",
       "      <td>7043.000000</td>\n",
       "      <td>7043.000000</td>\n",
       "      <td>7043.000000</td>\n",
       "      <td>7043.000000</td>\n",
       "      <td>7043.000000</td>\n",
       "    </tr>\n",
       "    <tr>\n",
       "      <th>mean</th>\n",
       "      <td>32.371149</td>\n",
       "      <td>64.761692</td>\n",
       "      <td>0.265370</td>\n",
       "      <td>0.495244</td>\n",
       "      <td>0.504756</td>\n",
       "    </tr>\n",
       "    <tr>\n",
       "      <th>std</th>\n",
       "      <td>24.559481</td>\n",
       "      <td>30.090047</td>\n",
       "      <td>0.441561</td>\n",
       "      <td>0.500013</td>\n",
       "      <td>0.500013</td>\n",
       "    </tr>\n",
       "    <tr>\n",
       "      <th>min</th>\n",
       "      <td>0.000000</td>\n",
       "      <td>18.250000</td>\n",
       "      <td>0.000000</td>\n",
       "      <td>0.000000</td>\n",
       "      <td>0.000000</td>\n",
       "    </tr>\n",
       "    <tr>\n",
       "      <th>25%</th>\n",
       "      <td>9.000000</td>\n",
       "      <td>35.500000</td>\n",
       "      <td>0.000000</td>\n",
       "      <td>0.000000</td>\n",
       "      <td>0.000000</td>\n",
       "    </tr>\n",
       "    <tr>\n",
       "      <th>50%</th>\n",
       "      <td>29.000000</td>\n",
       "      <td>70.350000</td>\n",
       "      <td>0.000000</td>\n",
       "      <td>0.000000</td>\n",
       "      <td>1.000000</td>\n",
       "    </tr>\n",
       "    <tr>\n",
       "      <th>75%</th>\n",
       "      <td>55.000000</td>\n",
       "      <td>89.850000</td>\n",
       "      <td>1.000000</td>\n",
       "      <td>1.000000</td>\n",
       "      <td>1.000000</td>\n",
       "    </tr>\n",
       "    <tr>\n",
       "      <th>max</th>\n",
       "      <td>72.000000</td>\n",
       "      <td>118.750000</td>\n",
       "      <td>1.000000</td>\n",
       "      <td>1.000000</td>\n",
       "      <td>1.000000</td>\n",
       "    </tr>\n",
       "  </tbody>\n",
       "</table>\n",
       "</div>"
      ],
      "text/plain": [
       "            TENURE  MONTHLY_CHARGES  CHURN_STATUS     GENDER_F     GENDER_M\n",
       "count  7043.000000      7043.000000   7043.000000  7043.000000  7043.000000\n",
       "mean     32.371149        64.761692      0.265370     0.495244     0.504756\n",
       "std      24.559481        30.090047      0.441561     0.500013     0.500013\n",
       "min       0.000000        18.250000      0.000000     0.000000     0.000000\n",
       "25%       9.000000        35.500000      0.000000     0.000000     0.000000\n",
       "50%      29.000000        70.350000      0.000000     0.000000     1.000000\n",
       "75%      55.000000        89.850000      1.000000     1.000000     1.000000\n",
       "max      72.000000       118.750000      1.000000     1.000000     1.000000"
      ]
     },
     "execution_count": 36,
     "metadata": {},
     "output_type": "execute_result"
    }
   ],
   "source": [
    "df.describe()"
   ]
  },
  {
   "cell_type": "code",
   "execution_count": 37,
   "metadata": {},
   "outputs": [],
   "source": [
    "X = df.drop('CHURN_STATUS', axis=1)\n",
    "y = df['CHURN_STATUS'].values"
   ]
  },
  {
   "cell_type": "code",
   "execution_count": 38,
   "metadata": {},
   "outputs": [],
   "source": [
    "X_train, X_test, y_train, y_test = train_test_split(X, y, test_size=0.20, random_state=0)\n",
    "X_train, X_val, y_train, y_val = train_test_split(X_train,y_train,test_size=0.25, random_state=0)"
   ]
  },
  {
   "cell_type": "code",
   "execution_count": 43,
   "metadata": {},
   "outputs": [
    {
     "name": "stdout",
     "output_type": "stream",
     "text": [
      "Fitting 5 folds for each of 8 candidates, totalling 40 fits\n",
      "Best Params-\n",
      "{'svc__C': 1, 'svc__gamma': 0.001, 'svc__kernel': 'linear'}\n",
      "\n",
      "\n",
      "Algorithm:  SVC\n",
      "Accuracy:  0.7750177430801988\n",
      "Recall:  0.44931506849315067\n",
      "F1-support:  0.5085271317829457\n",
      "FPR:  0.1111111111111111\n",
      "Runtime:  0:12:11.920172\n",
      "Best Params-\n",
      "{'svc__C': 1, 'svc__gamma': 0.001, 'svc__kernel': 'linear'}\n"
     ]
    }
   ],
   "source": [
    "tstart = dt.now()\n",
    "pipe = Pipeline(steps=[\n",
    "    ('svc', SVC())\n",
    "])\n",
    "\n",
    "param_grid = [{'svc__kernel': ['rbf'], 'svc__gamma': [1e-3, 1e-4],\n",
    "                     'svc__C': [1, 10, 100, 500]},\n",
    "            ]\n",
    "model=GridSearchCV(estimator=pipe,\n",
    "                         param_grid=param_grid,\n",
    "                         scoring='roc_auc', \n",
    "                         n_jobs=-1,\n",
    "                         pre_dispatch='2*n_jobs', \n",
    "                         cv=5, \n",
    "                         verbose=1,\n",
    "                         return_train_score=False)\n",
    "\n",
    "model.fit(X_train,y_train)\n",
    "\n",
    "pkl_filename = \"./models/svc.pkl\"\n",
    "with open(pkl_filename, 'wb') as file:\n",
    "    pickle.dump(model, file)\n",
    "\n",
    "X_val_np = X_val.to_numpy()\n",
    "predicted = model.predict(X_val_np)\n",
    "#proba = model.predict_proba(X_val_np)\n",
    "\n",
    "accuracy=accuracy_score(y_val, predicted)\n",
    "\n",
    "CM = confusion_matrix(y_val, predicted)\n",
    "(TN,FN,TP,FP) = (CM[0][0],CM[1][0],CM[1][1],CM[0][1])\n",
    "FPR = FP/(FP+TN)\n",
    "recall = TP/(TP+FN)\n",
    "precision = TP / (TP+FP)\n",
    "f1 = 2*(recall*precision)/(recall+precision)\n",
    "tend = dt.now()\n",
    "delta = tend-tstart\n",
    "\n",
    "\n",
    "print(\"Best Params-\")\n",
    "print(model.best_params_)\n",
    "\n",
    "print(\"\\n\")\n",
    "print(\"Algorithm: \", 'SVC')\n",
    "print(\"Accuracy: \",accuracy)\n",
    "print(\"Recall: \", recall)\n",
    "print(\"F1-support: \", f1)\n",
    "print(\"FPR: \", FPR)\n",
    "print(\"Runtime: \", delta)\n",
    "\n",
    "print(\"Best Params-\")\n",
    "print(model.best_params_)"
   ]
  },
  {
   "cell_type": "code",
   "execution_count": null,
   "metadata": {},
   "outputs": [],
   "source": []
  }
 ],
 "metadata": {
  "kernelspec": {
   "display_name": "Python 3",
   "language": "python",
   "name": "python3"
  },
  "language_info": {
   "codemirror_mode": {
    "name": "ipython",
    "version": 3
   },
   "file_extension": ".py",
   "mimetype": "text/x-python",
   "name": "python",
   "nbconvert_exporter": "python",
   "pygments_lexer": "ipython3",
   "version": "3.7.3"
  }
 },
 "nbformat": 4,
 "nbformat_minor": 2
}
