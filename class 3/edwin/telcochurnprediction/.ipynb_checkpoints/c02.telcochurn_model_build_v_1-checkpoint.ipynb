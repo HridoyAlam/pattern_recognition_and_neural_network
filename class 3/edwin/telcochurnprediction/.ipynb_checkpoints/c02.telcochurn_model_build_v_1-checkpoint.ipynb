{
 "cells": [
  {
   "cell_type": "markdown",
   "metadata": {},
   "source": [
    "# 1 Getting Ready"
   ]
  },
  {
   "cell_type": "markdown",
   "metadata": {},
   "source": [
    "## 1.1 Import Required Libraries"
   ]
  },
  {
   "cell_type": "code",
   "execution_count": 1,
   "metadata": {},
   "outputs": [],
   "source": [
    "import pandas as pd\n",
    "import numpy as np\n",
    "import matplotlib.pyplot as plt\n",
    "import seaborn as sns\n",
    "from sklearn.linear_model import LogisticRegression\n",
    "from sklearn.model_selection import train_test_split\n",
    "from sklearn.model_selection import GridSearchCV\n",
    "from numpy import arange\n",
    "from sklearn import preprocessing\n",
    "from sklearn.metrics import roc_auc_score\n",
    "from sklearn.metrics import roc_curve\n",
    "from sklearn.model_selection import cross_validate\n",
    "from sklearn.metrics import classification_report, confusion_matrix\n",
    "from sklearn.metrics import make_scorer, accuracy_score, f1_score\n",
    "from sklearn.metrics import precision_recall_curve\n",
    "from sklearn.metrics import precision_score\n",
    "from sklearn.metrics import recall_score\n",
    "from fpdf import FPDF \n",
    "from sklearn.pipeline import Pipeline\n",
    "import pickle\n",
    "import datetime\n",
    "from datetime import datetime as dt\n",
    "from datetime import timedelta\n",
    "from keras.models import model_from_json"
   ]
  },
  {
   "cell_type": "markdown",
   "metadata": {},
   "source": [
    "## 1.2 Setting up Environment"
   ]
  },
  {
   "cell_type": "code",
   "execution_count": 2,
   "metadata": {},
   "outputs": [],
   "source": [
    "%matplotlib inline\n",
    "plt.style.use('fivethirtyeight')\n",
    "pd.options.display.max_columns = None\n",
    "pd.options.display.max_rows = None"
   ]
  },
  {
   "cell_type": "markdown",
   "metadata": {},
   "source": [
    "# 2 Load Preprocessed Data for Model Building"
   ]
  },
  {
   "cell_type": "markdown",
   "metadata": {},
   "source": [
    "## 2.1 Load from pickle"
   ]
  },
  {
   "cell_type": "code",
   "execution_count": 3,
   "metadata": {},
   "outputs": [],
   "source": [
    "df_churn = pd.read_pickle('./data/training/churn.pickle')"
   ]
  },
  {
   "cell_type": "markdown",
   "metadata": {},
   "source": [
    "## 2.2 Have a Look into the Training Data"
   ]
  },
  {
   "cell_type": "code",
   "execution_count": 4,
   "metadata": {},
   "outputs": [
    {
     "data": {
      "text/html": [
       "<div>\n",
       "<style scoped>\n",
       "    .dataframe tbody tr th:only-of-type {\n",
       "        vertical-align: middle;\n",
       "    }\n",
       "\n",
       "    .dataframe tbody tr th {\n",
       "        vertical-align: top;\n",
       "    }\n",
       "\n",
       "    .dataframe thead th {\n",
       "        text-align: right;\n",
       "    }\n",
       "</style>\n",
       "<table border=\"1\" class=\"dataframe\">\n",
       "  <thead>\n",
       "    <tr style=\"text-align: right;\">\n",
       "      <th></th>\n",
       "      <th>TENURE</th>\n",
       "      <th>MONTHLY_CHARGES</th>\n",
       "      <th>CHURN_STATUS</th>\n",
       "    </tr>\n",
       "  </thead>\n",
       "  <tbody>\n",
       "    <tr>\n",
       "      <th>0</th>\n",
       "      <td>1</td>\n",
       "      <td>29.85</td>\n",
       "      <td>0</td>\n",
       "    </tr>\n",
       "    <tr>\n",
       "      <th>1</th>\n",
       "      <td>34</td>\n",
       "      <td>56.95</td>\n",
       "      <td>0</td>\n",
       "    </tr>\n",
       "    <tr>\n",
       "      <th>2</th>\n",
       "      <td>2</td>\n",
       "      <td>53.85</td>\n",
       "      <td>1</td>\n",
       "    </tr>\n",
       "    <tr>\n",
       "      <th>3</th>\n",
       "      <td>45</td>\n",
       "      <td>42.30</td>\n",
       "      <td>0</td>\n",
       "    </tr>\n",
       "    <tr>\n",
       "      <th>4</th>\n",
       "      <td>2</td>\n",
       "      <td>70.70</td>\n",
       "      <td>1</td>\n",
       "    </tr>\n",
       "  </tbody>\n",
       "</table>\n",
       "</div>"
      ],
      "text/plain": [
       "   TENURE  MONTHLY_CHARGES  CHURN_STATUS\n",
       "0       1            29.85             0\n",
       "1      34            56.95             0\n",
       "2       2            53.85             1\n",
       "3      45            42.30             0\n",
       "4       2            70.70             1"
      ]
     },
     "execution_count": 4,
     "metadata": {},
     "output_type": "execute_result"
    }
   ],
   "source": [
    "df_churn.head()"
   ]
  },
  {
   "cell_type": "markdown",
   "metadata": {},
   "source": [
    "## 2.3 Make a copy of Training Data to work on"
   ]
  },
  {
   "cell_type": "code",
   "execution_count": 5,
   "metadata": {},
   "outputs": [],
   "source": [
    "df = df_churn.copy()"
   ]
  },
  {
   "cell_type": "markdown",
   "metadata": {},
   "source": [
    "# 3 Learn more about the Dataset - Meta Info"
   ]
  },
  {
   "cell_type": "code",
   "execution_count": 6,
   "metadata": {},
   "outputs": [
    {
     "data": {
      "text/plain": [
       "(7043, 3)"
      ]
     },
     "execution_count": 6,
     "metadata": {},
     "output_type": "execute_result"
    }
   ],
   "source": [
    "df.shape"
   ]
  },
  {
   "cell_type": "code",
   "execution_count": 7,
   "metadata": {},
   "outputs": [
    {
     "name": "stdout",
     "output_type": "stream",
     "text": [
      "<class 'pandas.core.frame.DataFrame'>\n",
      "RangeIndex: 7043 entries, 0 to 7042\n",
      "Data columns (total 3 columns):\n",
      "TENURE             7043 non-null int64\n",
      "MONTHLY_CHARGES    7043 non-null float64\n",
      "CHURN_STATUS       7043 non-null int64\n",
      "dtypes: float64(1), int64(2)\n",
      "memory usage: 165.1 KB\n"
     ]
    }
   ],
   "source": [
    "df.info()"
   ]
  },
  {
   "cell_type": "code",
   "execution_count": 8,
   "metadata": {},
   "outputs": [
    {
     "data": {
      "text/plain": [
       "Index(['TENURE', 'MONTHLY_CHARGES', 'CHURN_STATUS'], dtype='object')"
      ]
     },
     "execution_count": 8,
     "metadata": {},
     "output_type": "execute_result"
    }
   ],
   "source": [
    "df.columns"
   ]
  },
  {
   "cell_type": "code",
   "execution_count": 9,
   "metadata": {},
   "outputs": [
    {
     "data": {
      "text/html": [
       "<div>\n",
       "<style scoped>\n",
       "    .dataframe tbody tr th:only-of-type {\n",
       "        vertical-align: middle;\n",
       "    }\n",
       "\n",
       "    .dataframe tbody tr th {\n",
       "        vertical-align: top;\n",
       "    }\n",
       "\n",
       "    .dataframe thead th {\n",
       "        text-align: right;\n",
       "    }\n",
       "</style>\n",
       "<table border=\"1\" class=\"dataframe\">\n",
       "  <thead>\n",
       "    <tr style=\"text-align: right;\">\n",
       "      <th></th>\n",
       "      <th>TENURE</th>\n",
       "      <th>MONTHLY_CHARGES</th>\n",
       "      <th>CHURN_STATUS</th>\n",
       "    </tr>\n",
       "  </thead>\n",
       "  <tbody>\n",
       "    <tr>\n",
       "      <th>count</th>\n",
       "      <td>7043.000000</td>\n",
       "      <td>7043.000000</td>\n",
       "      <td>7043.000000</td>\n",
       "    </tr>\n",
       "    <tr>\n",
       "      <th>mean</th>\n",
       "      <td>32.371149</td>\n",
       "      <td>64.761692</td>\n",
       "      <td>0.265370</td>\n",
       "    </tr>\n",
       "    <tr>\n",
       "      <th>std</th>\n",
       "      <td>24.559481</td>\n",
       "      <td>30.090047</td>\n",
       "      <td>0.441561</td>\n",
       "    </tr>\n",
       "    <tr>\n",
       "      <th>min</th>\n",
       "      <td>0.000000</td>\n",
       "      <td>18.250000</td>\n",
       "      <td>0.000000</td>\n",
       "    </tr>\n",
       "    <tr>\n",
       "      <th>25%</th>\n",
       "      <td>9.000000</td>\n",
       "      <td>35.500000</td>\n",
       "      <td>0.000000</td>\n",
       "    </tr>\n",
       "    <tr>\n",
       "      <th>50%</th>\n",
       "      <td>29.000000</td>\n",
       "      <td>70.350000</td>\n",
       "      <td>0.000000</td>\n",
       "    </tr>\n",
       "    <tr>\n",
       "      <th>75%</th>\n",
       "      <td>55.000000</td>\n",
       "      <td>89.850000</td>\n",
       "      <td>1.000000</td>\n",
       "    </tr>\n",
       "    <tr>\n",
       "      <th>max</th>\n",
       "      <td>72.000000</td>\n",
       "      <td>118.750000</td>\n",
       "      <td>1.000000</td>\n",
       "    </tr>\n",
       "  </tbody>\n",
       "</table>\n",
       "</div>"
      ],
      "text/plain": [
       "            TENURE  MONTHLY_CHARGES  CHURN_STATUS\n",
       "count  7043.000000      7043.000000   7043.000000\n",
       "mean     32.371149        64.761692      0.265370\n",
       "std      24.559481        30.090047      0.441561\n",
       "min       0.000000        18.250000      0.000000\n",
       "25%       9.000000        35.500000      0.000000\n",
       "50%      29.000000        70.350000      0.000000\n",
       "75%      55.000000        89.850000      1.000000\n",
       "max      72.000000       118.750000      1.000000"
      ]
     },
     "execution_count": 9,
     "metadata": {},
     "output_type": "execute_result"
    }
   ],
   "source": [
    "df.describe()"
   ]
  },
  {
   "cell_type": "markdown",
   "metadata": {},
   "source": [
    "# 4 Prepare X (Set of Independent Variables or Features) and y (Dependent or Target Variable)"
   ]
  },
  {
   "cell_type": "code",
   "execution_count": 10,
   "metadata": {},
   "outputs": [],
   "source": [
    "X = df.drop('CHURN_STATUS', axis=1)\n",
    "y = df['CHURN_STATUS'].values"
   ]
  },
  {
   "cell_type": "markdown",
   "metadata": {},
   "source": [
    "# 5 Splitting Data into Train, Validation and Test Set"
   ]
  },
  {
   "cell_type": "code",
   "execution_count": 11,
   "metadata": {},
   "outputs": [],
   "source": [
    "X_train, X_test, y_train, y_test = train_test_split(X,y,test_size=0.20, random_state=0)\n",
    "X_train, X_val, y_train, y_val = train_test_split(X_train,y_train,test_size=0.25, random_state=0)"
   ]
  },
  {
   "cell_type": "markdown",
   "metadata": {},
   "source": [
    "# 6 Oversampling for balancing data"
   ]
  },
  {
   "cell_type": "markdown",
   "metadata": {},
   "source": [
    "NOT NOW!"
   ]
  },
  {
   "cell_type": "markdown",
   "metadata": {},
   "source": [
    "# 7 Logistic  Regression"
   ]
  },
  {
   "cell_type": "markdown",
   "metadata": {},
   "source": [
    "## 7.1 Hyper Params Estimation: Logistic Regression"
   ]
  },
  {
   "cell_type": "code",
   "execution_count": 13,
   "metadata": {},
   "outputs": [
    {
     "name": "stdout",
     "output_type": "stream",
     "text": [
      "Starting ------ Logistic Regression\n",
      "Fitting 5 folds for each of 60 candidates, totalling 300 fits\n",
      "Best Params-\n",
      "{'logistic__max_iter': 500, 'logistic__penalty': 'l1', 'logistic__solver': 'saga'}\n",
      "\n",
      "\n",
      "Algorithm:  Logistic Regression\n",
      "Accuracy:  0.7792760823278921\n",
      "Best Params-\n",
      "{'logistic__max_iter': 500, 'logistic__penalty': 'l1', 'logistic__solver': 'saga'}\n"
     ]
    },
    {
     "name": "stderr",
     "output_type": "stream",
     "text": [
      "C:\\Users\\Hridoy Alam\\AppData\\Local\\Continuum\\anaconda3\\lib\\site-packages\\sklearn\\model_selection\\_search.py:921: UserWarning: One or more of the test scores are non-finite: [       nan        nan 0.81411277        nan 0.80158115 0.81406292\n",
      " 0.81406292 0.81405719 0.80795726 0.80155976        nan        nan\n",
      "        nan        nan        nan 0.81406292 0.81406292        nan\n",
      " 0.80793298 0.80157832        nan        nan 0.81411277        nan\n",
      " 0.80791733 0.81406292 0.81406292 0.81405719 0.81264238 0.80790023\n",
      "        nan        nan        nan        nan        nan 0.81406292\n",
      " 0.81406292        nan 0.81264665 0.80792727        nan        nan\n",
      " 0.81410992        nan 0.8141156  0.81406292 0.81406292 0.81405719\n",
      " 0.81402871 0.81407428        nan        nan        nan        nan\n",
      "        nan 0.81406292 0.81406292        nan 0.81403297 0.81410704]\n",
      "  category=UserWarning\n"
     ]
    }
   ],
   "source": [
    "print(\"Starting ------ Logistic Regression\")\n",
    "\n",
    "pipe = Pipeline(steps=[\n",
    "    ('logistic', LogisticRegression())\n",
    "])\n",
    "\n",
    "param_grid ={\n",
    "    'logistic__penalty':('l1', 'l2', 'elasticnet', 'none'),\n",
    "    'logistic__solver':('newton-cg', 'lbfgs', 'liblinear', 'sag', 'saga'),\n",
    "    'logistic__max_iter':[50,100,500]\n",
    "}\n",
    "\n",
    "model=GridSearchCV(estimator=pipe,\n",
    "                         param_grid=param_grid,\n",
    "                         scoring='roc_auc', \n",
    "                         n_jobs=-1,\n",
    "                         pre_dispatch='2*n_jobs', \n",
    "                         cv=5, \n",
    "                         verbose=1,\n",
    "                         return_train_score=False)\n",
    "\n",
    "model.fit(X_train,y_train)\n",
    "\n",
    "pkl_filename = \"./models/logistic_regression.pkl\"\n",
    "with open(pkl_filename, 'wb') as file:\n",
    "    pickle.dump(model, file)\n",
    "\n",
    "X_val_np = X_val.to_numpy()\n",
    "predicted = model.predict(X_val_np)\n",
    "proba = model.predict_proba(X_val_np)\n",
    "\n",
    "accuracy=accuracy_score(y_val, predicted)\n",
    "\n",
    "CM = confusion_matrix(y_val, predicted)\n",
    "(TN,FN,TP,FP) = (CM[0][0],CM[1][0],CM[1][1],CM[0][1])\n",
    "FPR = FP/(FP+TN)\n",
    "\n",
    "\n",
    "\n",
    "print(\"Best Params-\")\n",
    "print(model.best_params_)\n",
    "\n",
    "print(\"\\n\")\n",
    "print(\"Algorithm: \", 'Logistic Regression')\n",
    "print(\"Accuracy: \",accuracy)\n",
    "# print(\"Recall: \", recall)\n",
    "# print(\"F1-support: \", f1)\n",
    "# print(\"FPR: \", FPR)\n",
    "# print(\"Runtime: \", delta)\n",
    "\n",
    "print(\"Best Params-\")\n",
    "print(model.best_params_)"
   ]
  },
  {
   "cell_type": "markdown",
   "metadata": {},
   "source": [
    "## 7.2 Build Baseline Model: Logistic Regression"
   ]
  },
  {
   "cell_type": "markdown",
   "metadata": {},
   "source": [
    "DO IT YOURSELF"
   ]
  },
  {
   "cell_type": "markdown",
   "metadata": {},
   "source": [
    "# Thank You"
   ]
  },
  {
   "cell_type": "code",
   "execution_count": null,
   "metadata": {},
   "outputs": [],
   "source": []
  }
 ],
 "metadata": {
  "kernelspec": {
   "display_name": "Python 3",
   "language": "python",
   "name": "python3"
  },
  "language_info": {
   "codemirror_mode": {
    "name": "ipython",
    "version": 3
   },
   "file_extension": ".py",
   "mimetype": "text/x-python",
   "name": "python",
   "nbconvert_exporter": "python",
   "pygments_lexer": "ipython3",
   "version": "3.7.3"
  }
 },
 "nbformat": 4,
 "nbformat_minor": 2
}
