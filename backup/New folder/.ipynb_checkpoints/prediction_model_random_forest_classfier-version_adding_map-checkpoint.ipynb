{
 "cells": [
  {
   "cell_type": "markdown",
   "metadata": {},
   "source": [
    "##  Adding more input to our previous model"
   ]
  },
  {
   "cell_type": "code",
   "execution_count": 3,
   "metadata": {},
   "outputs": [],
   "source": [
    "import pandas as pd\n",
    "import numpy as np\n",
    "import matplotlib.pyplot as plt"
   ]
  },
  {
   "cell_type": "code",
   "execution_count": 4,
   "metadata": {},
   "outputs": [],
   "source": [
    "pd.options.display.max_columns = None\n",
    "pd.options.display.max_rows = None"
   ]
  },
  {
   "cell_type": "code",
   "execution_count": 6,
   "metadata": {},
   "outputs": [
    {
     "data": {
      "text/html": [
       "<div>\n",
       "<style scoped>\n",
       "    .dataframe tbody tr th:only-of-type {\n",
       "        vertical-align: middle;\n",
       "    }\n",
       "\n",
       "    .dataframe tbody tr th {\n",
       "        vertical-align: top;\n",
       "    }\n",
       "\n",
       "    .dataframe thead th {\n",
       "        text-align: right;\n",
       "    }\n",
       "</style>\n",
       "<table border=\"1\" class=\"dataframe\">\n",
       "  <thead>\n",
       "    <tr style=\"text-align: right;\">\n",
       "      <th></th>\n",
       "      <th>Unnamed: 0</th>\n",
       "      <th>team_1</th>\n",
       "      <th>team_2</th>\n",
       "      <th>_map</th>\n",
       "      <th>result_1</th>\n",
       "      <th>result_2</th>\n",
       "      <th>map_winner</th>\n",
       "      <th>starting_ct</th>\n",
       "      <th>ct_1</th>\n",
       "      <th>t_2</th>\n",
       "      <th>t_1</th>\n",
       "      <th>ct_2</th>\n",
       "      <th>event_id</th>\n",
       "      <th>match_id</th>\n",
       "      <th>rank_1</th>\n",
       "      <th>rank_2</th>\n",
       "      <th>map_wins_1</th>\n",
       "      <th>map_wins_2</th>\n",
       "      <th>match_winner</th>\n",
       "    </tr>\n",
       "  </thead>\n",
       "  <tbody>\n",
       "    <tr>\n",
       "      <th>0</th>\n",
       "      <td>0</td>\n",
       "      <td>Recon 5</td>\n",
       "      <td>TeamOne</td>\n",
       "      <td>Dust2</td>\n",
       "      <td>0</td>\n",
       "      <td>16</td>\n",
       "      <td>2</td>\n",
       "      <td>2</td>\n",
       "      <td>0</td>\n",
       "      <td>1</td>\n",
       "      <td>0</td>\n",
       "      <td>15</td>\n",
       "      <td>5151</td>\n",
       "      <td>2340454</td>\n",
       "      <td>62</td>\n",
       "      <td>63</td>\n",
       "      <td>0</td>\n",
       "      <td>2</td>\n",
       "      <td>2</td>\n",
       "    </tr>\n",
       "    <tr>\n",
       "      <th>1</th>\n",
       "      <td>1</td>\n",
       "      <td>Recon 5</td>\n",
       "      <td>TeamOne</td>\n",
       "      <td>Inferno</td>\n",
       "      <td>13</td>\n",
       "      <td>16</td>\n",
       "      <td>2</td>\n",
       "      <td>2</td>\n",
       "      <td>8</td>\n",
       "      <td>6</td>\n",
       "      <td>5</td>\n",
       "      <td>10</td>\n",
       "      <td>5151</td>\n",
       "      <td>2340454</td>\n",
       "      <td>62</td>\n",
       "      <td>63</td>\n",
       "      <td>0</td>\n",
       "      <td>2</td>\n",
       "      <td>2</td>\n",
       "    </tr>\n",
       "    <tr>\n",
       "      <th>2</th>\n",
       "      <td>2</td>\n",
       "      <td>New England Whalers</td>\n",
       "      <td>Station7</td>\n",
       "      <td>Inferno</td>\n",
       "      <td>12</td>\n",
       "      <td>16</td>\n",
       "      <td>2</td>\n",
       "      <td>1</td>\n",
       "      <td>9</td>\n",
       "      <td>6</td>\n",
       "      <td>3</td>\n",
       "      <td>10</td>\n",
       "      <td>5243</td>\n",
       "      <td>2340461</td>\n",
       "      <td>140</td>\n",
       "      <td>118</td>\n",
       "      <td>12</td>\n",
       "      <td>16</td>\n",
       "      <td>2</td>\n",
       "    </tr>\n",
       "    <tr>\n",
       "      <th>3</th>\n",
       "      <td>3</td>\n",
       "      <td>Rugratz</td>\n",
       "      <td>Bad News Bears</td>\n",
       "      <td>Inferno</td>\n",
       "      <td>7</td>\n",
       "      <td>16</td>\n",
       "      <td>2</td>\n",
       "      <td>2</td>\n",
       "      <td>0</td>\n",
       "      <td>8</td>\n",
       "      <td>7</td>\n",
       "      <td>8</td>\n",
       "      <td>5151</td>\n",
       "      <td>2340453</td>\n",
       "      <td>61</td>\n",
       "      <td>38</td>\n",
       "      <td>0</td>\n",
       "      <td>2</td>\n",
       "      <td>2</td>\n",
       "    </tr>\n",
       "    <tr>\n",
       "      <th>4</th>\n",
       "      <td>4</td>\n",
       "      <td>Rugratz</td>\n",
       "      <td>Bad News Bears</td>\n",
       "      <td>Vertigo</td>\n",
       "      <td>8</td>\n",
       "      <td>16</td>\n",
       "      <td>2</td>\n",
       "      <td>2</td>\n",
       "      <td>4</td>\n",
       "      <td>5</td>\n",
       "      <td>4</td>\n",
       "      <td>11</td>\n",
       "      <td>5151</td>\n",
       "      <td>2340453</td>\n",
       "      <td>61</td>\n",
       "      <td>38</td>\n",
       "      <td>0</td>\n",
       "      <td>2</td>\n",
       "      <td>2</td>\n",
       "    </tr>\n",
       "  </tbody>\n",
       "</table>\n",
       "</div>"
      ],
      "text/plain": [
       "   Unnamed: 0               team_1          team_2     _map  result_1  \\\n",
       "0           0              Recon 5         TeamOne    Dust2         0   \n",
       "1           1              Recon 5         TeamOne  Inferno        13   \n",
       "2           2  New England Whalers        Station7  Inferno        12   \n",
       "3           3              Rugratz  Bad News Bears  Inferno         7   \n",
       "4           4              Rugratz  Bad News Bears  Vertigo         8   \n",
       "\n",
       "   result_2  map_winner  starting_ct  ct_1  t_2  t_1  ct_2  event_id  \\\n",
       "0        16           2            2     0    1    0    15      5151   \n",
       "1        16           2            2     8    6    5    10      5151   \n",
       "2        16           2            1     9    6    3    10      5243   \n",
       "3        16           2            2     0    8    7     8      5151   \n",
       "4        16           2            2     4    5    4    11      5151   \n",
       "\n",
       "   match_id  rank_1  rank_2  map_wins_1  map_wins_2  match_winner  \n",
       "0   2340454      62      63           0           2             2  \n",
       "1   2340454      62      63           0           2             2  \n",
       "2   2340461     140     118          12          16             2  \n",
       "3   2340453      61      38           0           2             2  \n",
       "4   2340453      61      38           0           2             2  "
      ]
     },
     "execution_count": 6,
     "metadata": {},
     "output_type": "execute_result"
    }
   ],
   "source": [
    "df_raw_cols = ['team_1', 'team_2', '_map', 'result_1', 'result_2', 'map_winner', 'starting_ct', 'ct_1',\n",
    "              't_2', 't_1', 'ct_2', 'event_id', 'match_id', 'rank_1', 'rank_2', 'map_wins_1', 'map_wins_2','match_winner']\n",
    "df_raw = pd.read_csv('./results1.csv')\n",
    "df_raw.head(5)"
   ]
  },
  {
   "cell_type": "code",
   "execution_count": 7,
   "metadata": {},
   "outputs": [],
   "source": [
    "df_winner = df_raw.copy()"
   ]
  },
  {
   "cell_type": "code",
   "execution_count": 8,
   "metadata": {},
   "outputs": [
    {
     "data": {
      "text/plain": [
       "(45773, 19)"
      ]
     },
     "execution_count": 8,
     "metadata": {},
     "output_type": "execute_result"
    }
   ],
   "source": [
    "df_winner.shape"
   ]
  },
  {
   "cell_type": "code",
   "execution_count": 9,
   "metadata": {},
   "outputs": [
    {
     "name": "stdout",
     "output_type": "stream",
     "text": [
      "<class 'pandas.core.frame.DataFrame'>\n",
      "RangeIndex: 45773 entries, 0 to 45772\n",
      "Data columns (total 19 columns):\n",
      " #   Column        Non-Null Count  Dtype \n",
      "---  ------        --------------  ----- \n",
      " 0   Unnamed: 0    45773 non-null  int64 \n",
      " 1   team_1        45773 non-null  object\n",
      " 2   team_2        45773 non-null  object\n",
      " 3   _map          45773 non-null  object\n",
      " 4   result_1      45773 non-null  int64 \n",
      " 5   result_2      45773 non-null  int64 \n",
      " 6   map_winner    45773 non-null  int64 \n",
      " 7   starting_ct   45773 non-null  int64 \n",
      " 8   ct_1          45773 non-null  int64 \n",
      " 9   t_2           45773 non-null  int64 \n",
      " 10  t_1           45773 non-null  int64 \n",
      " 11  ct_2          45773 non-null  int64 \n",
      " 12  event_id      45773 non-null  int64 \n",
      " 13  match_id      45773 non-null  int64 \n",
      " 14  rank_1        45773 non-null  int64 \n",
      " 15  rank_2        45773 non-null  int64 \n",
      " 16  map_wins_1    45773 non-null  int64 \n",
      " 17  map_wins_2    45773 non-null  int64 \n",
      " 18  match_winner  45773 non-null  int64 \n",
      "dtypes: int64(16), object(3)\n",
      "memory usage: 6.6+ MB\n"
     ]
    }
   ],
   "source": [
    "df_winner.info()"
   ]
  },
  {
   "cell_type": "code",
   "execution_count": 10,
   "metadata": {},
   "outputs": [
    {
     "data": {
      "text/plain": [
       "Index(['Unnamed: 0', 'team_1', 'team_2', '_map', 'result_1', 'result_2',\n",
       "       'map_winner', 'starting_ct', 'ct_1', 't_2', 't_1', 'ct_2', 'event_id',\n",
       "       'match_id', 'rank_1', 'rank_2', 'map_wins_1', 'map_wins_2',\n",
       "       'match_winner'],\n",
       "      dtype='object')"
      ]
     },
     "execution_count": 10,
     "metadata": {},
     "output_type": "execute_result"
    }
   ],
   "source": [
    "df_winner.columns"
   ]
  },
  {
   "cell_type": "code",
   "execution_count": 11,
   "metadata": {},
   "outputs": [
    {
     "data": {
      "text/html": [
       "<div>\n",
       "<style scoped>\n",
       "    .dataframe tbody tr th:only-of-type {\n",
       "        vertical-align: middle;\n",
       "    }\n",
       "\n",
       "    .dataframe tbody tr th {\n",
       "        vertical-align: top;\n",
       "    }\n",
       "\n",
       "    .dataframe thead th {\n",
       "        text-align: right;\n",
       "    }\n",
       "</style>\n",
       "<table border=\"1\" class=\"dataframe\">\n",
       "  <thead>\n",
       "    <tr style=\"text-align: right;\">\n",
       "      <th></th>\n",
       "      <th>Unnamed: 0</th>\n",
       "      <th>result_1</th>\n",
       "      <th>result_2</th>\n",
       "      <th>map_winner</th>\n",
       "      <th>starting_ct</th>\n",
       "      <th>ct_1</th>\n",
       "      <th>t_2</th>\n",
       "      <th>t_1</th>\n",
       "      <th>ct_2</th>\n",
       "      <th>event_id</th>\n",
       "      <th>match_id</th>\n",
       "      <th>rank_1</th>\n",
       "      <th>rank_2</th>\n",
       "      <th>map_wins_1</th>\n",
       "      <th>map_wins_2</th>\n",
       "      <th>match_winner</th>\n",
       "    </tr>\n",
       "  </thead>\n",
       "  <tbody>\n",
       "    <tr>\n",
       "      <th>count</th>\n",
       "      <td>45773.000000</td>\n",
       "      <td>45773.000000</td>\n",
       "      <td>45773.000000</td>\n",
       "      <td>45773.000000</td>\n",
       "      <td>45773.000000</td>\n",
       "      <td>45773.000000</td>\n",
       "      <td>45773.000000</td>\n",
       "      <td>45773.000000</td>\n",
       "      <td>45773.000000</td>\n",
       "      <td>45773.000000</td>\n",
       "      <td>4.577300e+04</td>\n",
       "      <td>45773.000000</td>\n",
       "      <td>45773.000000</td>\n",
       "      <td>45773.000000</td>\n",
       "      <td>45773.000000</td>\n",
       "      <td>45773.000000</td>\n",
       "    </tr>\n",
       "    <tr>\n",
       "      <th>mean</th>\n",
       "      <td>22886.000000</td>\n",
       "      <td>13.385489</td>\n",
       "      <td>12.731545</td>\n",
       "      <td>1.462478</td>\n",
       "      <td>1.501387</td>\n",
       "      <td>6.659515</td>\n",
       "      <td>6.057283</td>\n",
       "      <td>6.375571</td>\n",
       "      <td>6.335482</td>\n",
       "      <td>3580.790859</td>\n",
       "      <td>2.321278e+06</td>\n",
       "      <td>68.394228</td>\n",
       "      <td>77.289428</td>\n",
       "      <td>4.896708</td>\n",
       "      <td>4.597710</td>\n",
       "      <td>1.464204</td>\n",
       "    </tr>\n",
       "    <tr>\n",
       "      <th>std</th>\n",
       "      <td>13213.671273</td>\n",
       "      <td>4.417713</td>\n",
       "      <td>4.715722</td>\n",
       "      <td>0.498596</td>\n",
       "      <td>0.500004</td>\n",
       "      <td>3.257815</td>\n",
       "      <td>3.161310</td>\n",
       "      <td>3.184036</td>\n",
       "      <td>3.285287</td>\n",
       "      <td>904.337168</td>\n",
       "      <td>1.170610e+04</td>\n",
       "      <td>61.835919</td>\n",
       "      <td>65.708309</td>\n",
       "      <td>6.044017</td>\n",
       "      <td>5.931323</td>\n",
       "      <td>0.498722</td>\n",
       "    </tr>\n",
       "    <tr>\n",
       "      <th>min</th>\n",
       "      <td>0.000000</td>\n",
       "      <td>0.000000</td>\n",
       "      <td>0.000000</td>\n",
       "      <td>1.000000</td>\n",
       "      <td>1.000000</td>\n",
       "      <td>0.000000</td>\n",
       "      <td>0.000000</td>\n",
       "      <td>0.000000</td>\n",
       "      <td>0.000000</td>\n",
       "      <td>820.000000</td>\n",
       "      <td>2.299001e+06</td>\n",
       "      <td>1.000000</td>\n",
       "      <td>1.000000</td>\n",
       "      <td>0.000000</td>\n",
       "      <td>0.000000</td>\n",
       "      <td>1.000000</td>\n",
       "    </tr>\n",
       "    <tr>\n",
       "      <th>25%</th>\n",
       "      <td>11443.000000</td>\n",
       "      <td>11.000000</td>\n",
       "      <td>9.000000</td>\n",
       "      <td>1.000000</td>\n",
       "      <td>1.000000</td>\n",
       "      <td>4.000000</td>\n",
       "      <td>4.000000</td>\n",
       "      <td>4.000000</td>\n",
       "      <td>4.000000</td>\n",
       "      <td>2818.000000</td>\n",
       "      <td>2.311132e+06</td>\n",
       "      <td>22.000000</td>\n",
       "      <td>28.000000</td>\n",
       "      <td>1.000000</td>\n",
       "      <td>1.000000</td>\n",
       "      <td>1.000000</td>\n",
       "    </tr>\n",
       "    <tr>\n",
       "      <th>50%</th>\n",
       "      <td>22886.000000</td>\n",
       "      <td>16.000000</td>\n",
       "      <td>16.000000</td>\n",
       "      <td>1.000000</td>\n",
       "      <td>2.000000</td>\n",
       "      <td>7.000000</td>\n",
       "      <td>6.000000</td>\n",
       "      <td>6.000000</td>\n",
       "      <td>6.000000</td>\n",
       "      <td>3572.000000</td>\n",
       "      <td>2.321956e+06</td>\n",
       "      <td>49.000000</td>\n",
       "      <td>58.000000</td>\n",
       "      <td>2.000000</td>\n",
       "      <td>2.000000</td>\n",
       "      <td>1.000000</td>\n",
       "    </tr>\n",
       "    <tr>\n",
       "      <th>75%</th>\n",
       "      <td>34329.000000</td>\n",
       "      <td>16.000000</td>\n",
       "      <td>16.000000</td>\n",
       "      <td>2.000000</td>\n",
       "      <td>2.000000</td>\n",
       "      <td>9.000000</td>\n",
       "      <td>8.000000</td>\n",
       "      <td>9.000000</td>\n",
       "      <td>9.000000</td>\n",
       "      <td>4346.000000</td>\n",
       "      <td>2.331691e+06</td>\n",
       "      <td>96.000000</td>\n",
       "      <td>110.000000</td>\n",
       "      <td>8.000000</td>\n",
       "      <td>7.000000</td>\n",
       "      <td>2.000000</td>\n",
       "    </tr>\n",
       "    <tr>\n",
       "      <th>max</th>\n",
       "      <td>45772.000000</td>\n",
       "      <td>38.000000</td>\n",
       "      <td>41.000000</td>\n",
       "      <td>2.000000</td>\n",
       "      <td>2.000000</td>\n",
       "      <td>15.000000</td>\n",
       "      <td>16.000000</td>\n",
       "      <td>15.000000</td>\n",
       "      <td>15.000000</td>\n",
       "      <td>5248.000000</td>\n",
       "      <td>2.340461e+06</td>\n",
       "      <td>404.000000</td>\n",
       "      <td>404.000000</td>\n",
       "      <td>34.000000</td>\n",
       "      <td>34.000000</td>\n",
       "      <td>2.000000</td>\n",
       "    </tr>\n",
       "  </tbody>\n",
       "</table>\n",
       "</div>"
      ],
      "text/plain": [
       "         Unnamed: 0      result_1      result_2    map_winner   starting_ct  \\\n",
       "count  45773.000000  45773.000000  45773.000000  45773.000000  45773.000000   \n",
       "mean   22886.000000     13.385489     12.731545      1.462478      1.501387   \n",
       "std    13213.671273      4.417713      4.715722      0.498596      0.500004   \n",
       "min        0.000000      0.000000      0.000000      1.000000      1.000000   \n",
       "25%    11443.000000     11.000000      9.000000      1.000000      1.000000   \n",
       "50%    22886.000000     16.000000     16.000000      1.000000      2.000000   \n",
       "75%    34329.000000     16.000000     16.000000      2.000000      2.000000   \n",
       "max    45772.000000     38.000000     41.000000      2.000000      2.000000   \n",
       "\n",
       "               ct_1           t_2           t_1          ct_2      event_id  \\\n",
       "count  45773.000000  45773.000000  45773.000000  45773.000000  45773.000000   \n",
       "mean       6.659515      6.057283      6.375571      6.335482   3580.790859   \n",
       "std        3.257815      3.161310      3.184036      3.285287    904.337168   \n",
       "min        0.000000      0.000000      0.000000      0.000000    820.000000   \n",
       "25%        4.000000      4.000000      4.000000      4.000000   2818.000000   \n",
       "50%        7.000000      6.000000      6.000000      6.000000   3572.000000   \n",
       "75%        9.000000      8.000000      9.000000      9.000000   4346.000000   \n",
       "max       15.000000     16.000000     15.000000     15.000000   5248.000000   \n",
       "\n",
       "           match_id        rank_1        rank_2    map_wins_1    map_wins_2  \\\n",
       "count  4.577300e+04  45773.000000  45773.000000  45773.000000  45773.000000   \n",
       "mean   2.321278e+06     68.394228     77.289428      4.896708      4.597710   \n",
       "std    1.170610e+04     61.835919     65.708309      6.044017      5.931323   \n",
       "min    2.299001e+06      1.000000      1.000000      0.000000      0.000000   \n",
       "25%    2.311132e+06     22.000000     28.000000      1.000000      1.000000   \n",
       "50%    2.321956e+06     49.000000     58.000000      2.000000      2.000000   \n",
       "75%    2.331691e+06     96.000000    110.000000      8.000000      7.000000   \n",
       "max    2.340461e+06    404.000000    404.000000     34.000000     34.000000   \n",
       "\n",
       "       match_winner  \n",
       "count  45773.000000  \n",
       "mean       1.464204  \n",
       "std        0.498722  \n",
       "min        1.000000  \n",
       "25%        1.000000  \n",
       "50%        1.000000  \n",
       "75%        2.000000  \n",
       "max        2.000000  "
      ]
     },
     "execution_count": 11,
     "metadata": {},
     "output_type": "execute_result"
    }
   ],
   "source": [
    "df_winner.describe()"
   ]
  },
  {
   "cell_type": "code",
   "execution_count": null,
   "metadata": {},
   "outputs": [],
   "source": [
    "df_winner = df_winner[['team_1', 'team_2', '_map', 'rank_1', 'rank_2', 'match_winner']]"
   ]
  },
  {
   "cell_type": "code",
   "execution_count": null,
   "metadata": {},
   "outputs": [],
   "source": [
    "df_winner.head()"
   ]
  },
  {
   "cell_type": "code",
   "execution_count": null,
   "metadata": {},
   "outputs": [],
   "source": [
    "df_winner.info()"
   ]
  },
  {
   "cell_type": "code",
   "execution_count": null,
   "metadata": {},
   "outputs": [],
   "source": [
    "df_winner.isna().sum()"
   ]
  },
  {
   "cell_type": "code",
   "execution_count": null,
   "metadata": {},
   "outputs": [],
   "source": [
    "# let's first copy the data\n",
    "\n",
    "df = df_winner.copy()\n",
    "df.head()"
   ]
  },
  {
   "cell_type": "markdown",
   "metadata": {},
   "source": []
  },
  {
   "cell_type": "markdown",
   "metadata": {},
   "source": [
    "## model\n"
   ]
  },
  {
   "cell_type": "code",
   "execution_count": null,
   "metadata": {},
   "outputs": [],
   "source": [
    "\n",
    "import seaborn as sns\n",
    "from sklearn.linear_model import LogisticRegression\n",
    "from sklearn.model_selection import train_test_split\n",
    "from sklearn.model_selection import GridSearchCV\n",
    "from numpy import arange\n",
    "from sklearn import preprocessing\n",
    "from sklearn.metrics import roc_auc_score\n",
    "from sklearn.metrics import roc_curve\n",
    "from sklearn.model_selection import cross_validate\n",
    "from sklearn.metrics import classification_report, confusion_matrix\n",
    "from sklearn.metrics import make_scorer, accuracy_score, f1_score\n",
    "from sklearn.metrics import precision_recall_curve\n",
    "from sklearn.metrics import precision_score\n",
    "from sklearn.metrics import recall_score\n",
    "\n",
    "from sklearn.pipeline import Pipeline\n",
    "import pickle\n",
    "import datetime\n",
    "from datetime import datetime as dt\n",
    "from datetime import timedelta\n",
    "\n",
    "\n",
    "from sklearn.pipeline import make_pipeline\n",
    "from sklearn.preprocessing import StandardScaler\n",
    "\n",
    "from sklearn.ensemble import RandomForestClassifier"
   ]
  },
  {
   "cell_type": "code",
   "execution_count": null,
   "metadata": {},
   "outputs": [],
   "source": [
    "%matplotlib inline\n",
    "plt.style.use('fivethirtyeight')"
   ]
  },
  {
   "cell_type": "code",
   "execution_count": null,
   "metadata": {},
   "outputs": [],
   "source": [
    "X = df.drop('match_winner', axis = 1)\n",
    "y = df['match_winner'].values"
   ]
  },
  {
   "cell_type": "markdown",
   "metadata": {},
   "source": [
    "## experiments"
   ]
  },
  {
   "cell_type": "code",
   "execution_count": null,
   "metadata": {},
   "outputs": [],
   "source": [
    "set_of_teams = set(list(X['team_1']) + list(X['team_2']))\n",
    "team_to_num = dict(zip(set_of_teams, range(len(set_of_teams))))"
   ]
  },
  {
   "cell_type": "code",
   "execution_count": null,
   "metadata": {},
   "outputs": [],
   "source": [
    "X['team_1'] = X['team_1'].replace(team_to_num)\n",
    "X['team_1'].head()"
   ]
  },
  {
   "cell_type": "code",
   "execution_count": null,
   "metadata": {},
   "outputs": [],
   "source": [
    "X['team_2'] = X['team_2'].replace(team_to_num)\n",
    "X['team_2'].head()"
   ]
  },
  {
   "cell_type": "markdown",
   "metadata": {},
   "source": [
    "## end experiments"
   ]
  },
  {
   "cell_type": "markdown",
   "metadata": {},
   "source": [
    "# Model"
   ]
  },
  {
   "cell_type": "code",
   "execution_count": null,
   "metadata": {},
   "outputs": [],
   "source": [
    "X_train, X_test, y_train, y_test = train_test_split(X, y, test_size=0.20, random_state=0)\n",
    "X_train, X_val, y_train, y_val = train_test_split(X_train,y_train,test_size=0.25, random_state=0)"
   ]
  },
  {
   "cell_type": "code",
   "execution_count": null,
   "metadata": {},
   "outputs": [],
   "source": [
    "tstart = dt.now()\n",
    "pipe = Pipeline(steps=[\n",
    "    ('randomforest', RandomForestClassifier())\n",
    "])\n",
    "\n",
    "param_grid = {\n",
    "    'randomforest__n_estimators':[100],\n",
    "    'randomforest__criterion':['entropy'],\n",
    "    'randomforest__max_depth':[50,100,50],\n",
    "    'randomforest__max_features':['auto', 'sqrt', 'log2']\n",
    "}\n",
    "model=GridSearchCV(estimator=pipe,\n",
    "                         param_grid=param_grid,\n",
    "                         scoring='roc_auc', \n",
    "                         n_jobs=-1,\n",
    "                         pre_dispatch='2*n_jobs', \n",
    "                         cv=5, \n",
    "                         verbose=1,\n",
    "                         return_train_score=False)\n",
    "\n",
    "model.fit(X_train,y_train)\n",
    "\n",
    "pkl_filename = \"./models/randomforest.pkl\"\n",
    "with open(pkl_filename, 'wb') as file:\n",
    "    pickle.dump(model, file)\n",
    "\n",
    "X_val_np = X_val.to_numpy()\n",
    "predicted = model.predict(X_val_np)\n",
    "proba = model.predict_proba(X_val_np)\n",
    "\n",
    "accuracy=accuracy_score(y_val, predicted)\n",
    "\n",
    "CM = confusion_matrix(y_val, predicted)\n",
    "(TN,FN,TP,FP) = (CM[0][0],CM[1][0],CM[1][1],CM[0][1])\n",
    "FPR = FP/(FP+TN)\n",
    "recall = TP/(TP+FN)\n",
    "precision = TP / (TP+FP)\n",
    "f1 = 2*(recall*precision)/(recall+precision)\n",
    "tend = dt.now()\n",
    "delta = tend-tstart\n",
    "\n",
    "\n",
    "print(\"Best Params-\")\n",
    "print(model.best_params_)\n",
    "\n",
    "print(\"\\n\")\n",
    "print(\"Algorithm: \", 'RandomForestClassifier')\n",
    "print(\"Accuracy: \",accuracy)\n",
    "print(\"Precession : \",precision)\n",
    "print(\"Recall: \", recall)\n",
    "print(\"F1-support: \", f1)\n",
    "print(\"FPR: \", FPR)\n",
    "print(\"Runtime: \", delta)\n",
    "\n",
    "print(\"Best Params-\")\n",
    "print(model.best_params_)"
   ]
  },
  {
   "cell_type": "code",
   "execution_count": null,
   "metadata": {},
   "outputs": [],
   "source": [
    "base_model = RandomForestClassifier(criterion = 'entropy', max_depth = 50, max_features = 'sqrt', verbose = 1)"
   ]
  },
  {
   "cell_type": "code",
   "execution_count": null,
   "metadata": {},
   "outputs": [],
   "source": [
    "base_model.fit(X_train, y_train)"
   ]
  },
  {
   "cell_type": "code",
   "execution_count": null,
   "metadata": {},
   "outputs": [],
   "source": [
    "predicted = base_model.predict(X_val_np)\n",
    "accuracy = accuracy_score(y_val, predicted)\n",
    "print(f\"Accuracy is:{accuracy}\")"
   ]
  },
  {
   "cell_type": "markdown",
   "metadata": {},
   "source": [
    "## Testing"
   ]
  },
  {
   "cell_type": "code",
   "execution_count": null,
   "metadata": {},
   "outputs": [],
   "source": [
    "import numpy.ma as ma\n",
    "#copied from the given model\n",
    "new_matches = {'team_1': ['Triumph','SKADE','Chiefs','G2','AGO', 'Fiend','KHAN','ALTERNATE aTTaX','ABC'],\n",
    "               'team_2': ['Recon 5','Budapest Five','Skyfire','BIG','1WIN','Lyngby Vikings','K23', 'AGO','XYZ'],\n",
    "               \n",
    "               'rank_1': [79,23,141,4,37, 22, 42, 125, 10],\n",
    "               'rank_2': [112,80,151,9,46, 49, 36, 8, 9]\n",
    "              }\n",
    "new_matches = pd.DataFrame(data=new_matches)"
   ]
  },
  {
   "cell_type": "code",
   "execution_count": null,
   "metadata": {},
   "outputs": [],
   "source": [
    "X_test = new_matches[['team_1','team_2','rank_1', 'rank_2']]\n"
   ]
  },
  {
   "cell_type": "code",
   "execution_count": null,
   "metadata": {},
   "outputs": [],
   "source": [
    "set_of_teams = set(list(X_test['team_1']) + list(X_test['team_2']))\n",
    "team_to_num = dict(zip(set_of_teams, range(len(set_of_teams))))"
   ]
  },
  {
   "cell_type": "code",
   "execution_count": null,
   "metadata": {},
   "outputs": [],
   "source": [
    "team_to_num = dict(zip(set_of_teams, range(len(set_of_teams))))\n",
    "team_to_num"
   ]
  },
  {
   "cell_type": "code",
   "execution_count": null,
   "metadata": {},
   "outputs": [],
   "source": [
    "X_test['team_1'] = X_test['team_1'].replace(team_to_num)\n",
    "X_test['team_1']"
   ]
  },
  {
   "cell_type": "code",
   "execution_count": null,
   "metadata": {},
   "outputs": [],
   "source": [
    "X_test['team_2'] = X_test['team_2'].replace(team_to_num)\n",
    "X_test['team_2']"
   ]
  },
  {
   "cell_type": "code",
   "execution_count": null,
   "metadata": {},
   "outputs": [],
   "source": [
    "clf = RandomForestClassifier(max_depth=50)\n",
    "clf.fit(X, y)\n",
    "\n",
    "new_matches['predicted_winner'] = clf.predict(X_test)\n",
    "new_matches[['team_1','team_2','predicted_winner']]"
   ]
  },
  {
   "cell_type": "markdown",
   "metadata": {},
   "source": [
    "## Analysis"
   ]
  },
  {
   "cell_type": "code",
   "execution_count": null,
   "metadata": {},
   "outputs": [],
   "source": [
    "## As I copied my orginal data into df_winner, lets use it now, to know more about those categories\n",
    "\n",
    "df_winner.head(10)"
   ]
  },
  {
   "cell_type": "markdown",
   "metadata": {},
   "source": [
    "## Rank_1"
   ]
  },
  {
   "cell_type": "code",
   "execution_count": null,
   "metadata": {},
   "outputs": [],
   "source": [
    "import matplotlib.pyplot as plt\n",
    "import seaborn as sns\n",
    "from dateutil import relativedelta"
   ]
  },
  {
   "cell_type": "code",
   "execution_count": null,
   "metadata": {},
   "outputs": [],
   "source": [
    "df_winner.rank_1.head()"
   ]
  },
  {
   "cell_type": "code",
   "execution_count": null,
   "metadata": {},
   "outputs": [],
   "source": [
    "df_winner.rank_1.describe()"
   ]
  },
  {
   "cell_type": "code",
   "execution_count": null,
   "metadata": {},
   "outputs": [],
   "source": [
    "df_winner.rank_1.isna().sum()"
   ]
  },
  {
   "cell_type": "code",
   "execution_count": null,
   "metadata": {},
   "outputs": [],
   "source": [
    "sns.distplot(df_winner.rank_1, axlabel = 'rank_1')"
   ]
  },
  {
   "cell_type": "code",
   "execution_count": null,
   "metadata": {},
   "outputs": [],
   "source": [
    "df.boxplot(column='rank_1', return_type='axes')"
   ]
  },
  {
   "cell_type": "code",
   "execution_count": null,
   "metadata": {},
   "outputs": [],
   "source": [
    "status_order = [1,2]\n",
    "status_palette = [\"#ff2600\",\"#0dbd25\"]\n",
    "color_reg = \"#0dbd25\"\n",
    "color_winner = \"#ff2600\"\n",
    "\n",
    "sns.boxplot(x='match_winner', y='rank_1', data=df, order=status_order, palette = status_palette)\n",
    "plt.show()"
   ]
  },
  {
   "cell_type": "code",
   "execution_count": null,
   "metadata": {},
   "outputs": [],
   "source": []
  },
  {
   "cell_type": "code",
   "execution_count": null,
   "metadata": {},
   "outputs": [],
   "source": []
  }
 ],
 "metadata": {
  "kernelspec": {
   "display_name": "Python 3",
   "language": "python",
   "name": "python3"
  },
  "language_info": {
   "codemirror_mode": {
    "name": "ipython",
    "version": 3
   },
   "file_extension": ".py",
   "mimetype": "text/x-python",
   "name": "python",
   "nbconvert_exporter": "python",
   "pygments_lexer": "ipython3",
   "version": "3.7.3"
  }
 },
 "nbformat": 4,
 "nbformat_minor": 2
}
